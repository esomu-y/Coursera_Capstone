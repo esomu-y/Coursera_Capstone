{
    "cells": [
        {
            "cell_type": "code",
            "execution_count": 1,
            "metadata": {},
            "outputs": [],
            "source": "import urllib.request\nimport bs4 as bs\nimport pandas as pd"
        },
        {
            "cell_type": "code",
            "execution_count": 2,
            "metadata": {},
            "outputs": [],
            "source": "# Read the wiki page\n# create the above dataframe:\n# The dataframe will consist of three columns: PostalCode, Borough, and Neighborhood\nsource = urllib.request.urlopen('https://en.wikipedia.org/wiki/List_of_postal_codes_of_Canada:_M').read()\nsoup = bs.BeautifulSoup(source,'lxml')\ntable = soup.find('table', attrs={'class':'wikitable sortable'})\ntable_rows = table.find_all('tr')\nl = []\nfor tr in table_rows:\n    td = tr.find_all('td')\n    row = [tr.text for tr in td]\n    l.append(row)\ndf = pd.DataFrame(l, columns=[\"PostalCode\", \"Borough\",\"Neighborhood\"])\n# df.head()\n# print(  \"1. count: \" , df.shape[0])"
        },
        {
            "cell_type": "code",
            "execution_count": 3,
            "metadata": {},
            "outputs": [],
            "source": "# Remove 1st row whic is all None\ndf = df[~df.isna().any(axis=1)]\n# print(  \"2. count: \" , df.shape[0] )\n# df.head()"
        },
        {
            "cell_type": "code",
            "execution_count": 4,
            "metadata": {},
            "outputs": [],
            "source": "# Only process the cells that have an assigned borough. Ignore cells with a borough that is Not assigned.\ndf.loc[df['Borough'].str.contains('Not assigned'), 'Borough'] = None\n#df = df[~df.isna().any(axis=1)]\ndf = df.dropna(subset=['Borough'])\n# print(  \"3. count: \" , df.shape[0] )\n# df.head()"
        },
        {
            "cell_type": "code",
            "execution_count": 5,
            "metadata": {},
            "outputs": [],
            "source": "# More than one neighborhood can exist in one postal code area. For example, in the table on the Wikipedia page, you will notice that M5A is listed twice and has two neighborhoods: Harbourfront and Regent Park. \n# These two rows will be combined into one row with the neighborhoods separated with a comma as shown in row 11 in the above table.\n# But, becuase the wiki alredy remvoved duplicate postal codes we are only going to cleanup the data in the Neighborhood column\n# Also remove new line from HTML\nfor i in df.index: \n     df['PostalCode'][i] = df['PostalCode'][i].replace('\\n','')\n     df['Borough'][i] = df['Borough'][i].replace('\\n','')\n     df['Neighborhood'][i] = df['Neighborhood'][i].replace('\\n','')\n     df['Neighborhood'][i] = df['Neighborhood'][i].replace(' / ',', ')"
        },
        {
            "cell_type": "code",
            "execution_count": 6,
            "metadata": {},
            "outputs": [
                {
                    "data": {
                        "text/plain": "Series([], Name: Neighborhood, dtype: object)"
                    },
                    "execution_count": 6,
                    "metadata": {},
                    "output_type": "execute_result"
                }
            ],
            "source": "# If a cell has a borough but a Not assigned neighborhood, then the neighborhood will be the same as the borough.\ndf.loc[df['Neighborhood'].str.contains('Not assigned'), 'Neighborhood'] "
        },
        {
            "cell_type": "code",
            "execution_count": 7,
            "metadata": {},
            "outputs": [
                {
                    "name": "stdout",
                    "output_type": "stream",
                    "text": "3. count:  103\n"
                }
            ],
            "source": "# In the last cell of your notebook, use the .shape method to print the number of rows of your dataframe.\nprint(  \"3. count: \" , df.shape[0] )"
        },
        {
            "cell_type": "code",
            "execution_count": 8,
            "metadata": {},
            "outputs": [
                {
                    "name": "stdout",
                    "output_type": "stream",
                    "text": "Data downloaded!\n"
                }
            ],
            "source": "!wget -q -O 'Geospatial_Coordinates.csv' https://cocl.us/Geospatial_data\nprint('Data downloaded!')\n"
        },
        {
            "cell_type": "code",
            "execution_count": 9,
            "metadata": {},
            "outputs": [
                {
                    "data": {
                        "text/html": "<div>\n<style scoped>\n    .dataframe tbody tr th:only-of-type {\n        vertical-align: middle;\n    }\n\n    .dataframe tbody tr th {\n        vertical-align: top;\n    }\n\n    .dataframe thead th {\n        text-align: right;\n    }\n</style>\n<table border=\"1\" class=\"dataframe\">\n  <thead>\n    <tr style=\"text-align: right;\">\n      <th></th>\n      <th>PostalCode</th>\n      <th>Latitude</th>\n      <th>Longitude</th>\n    </tr>\n  </thead>\n  <tbody>\n    <tr>\n      <th>0</th>\n      <td>M1B</td>\n      <td>43.806686</td>\n      <td>-79.194353</td>\n    </tr>\n    <tr>\n      <th>1</th>\n      <td>M1C</td>\n      <td>43.784535</td>\n      <td>-79.160497</td>\n    </tr>\n    <tr>\n      <th>2</th>\n      <td>M1E</td>\n      <td>43.763573</td>\n      <td>-79.188711</td>\n    </tr>\n    <tr>\n      <th>3</th>\n      <td>M1G</td>\n      <td>43.770992</td>\n      <td>-79.216917</td>\n    </tr>\n    <tr>\n      <th>4</th>\n      <td>M1H</td>\n      <td>43.773136</td>\n      <td>-79.239476</td>\n    </tr>\n  </tbody>\n</table>\n</div>",
                        "text/plain": "  PostalCode   Latitude  Longitude\n0        M1B  43.806686 -79.194353\n1        M1C  43.784535 -79.160497\n2        M1E  43.763573 -79.188711\n3        M1G  43.770992 -79.216917\n4        M1H  43.773136 -79.239476"
                    },
                    "execution_count": 9,
                    "metadata": {},
                    "output_type": "execute_result"
                }
            ],
            "source": "header_list = [\"PostalCode\", \"Latitude\", \"Longitude\"]\nll_df = pd.read_csv('Geospatial_Coordinates.csv', names=header_list, skiprows=1)\nll_df.set_index('PostalCode')\nll_df.head()"
        },
        {
            "cell_type": "code",
            "execution_count": 10,
            "metadata": {},
            "outputs": [],
            "source": "# Function to get Latitude from dataframe created from Geospatial_Coordinates.csv \ndef find_latitude(postal_code):\n    return ll_df.loc[ll_df['PostalCode'] == postal_code]['Latitude'].item()"
        },
        {
            "cell_type": "code",
            "execution_count": 11,
            "metadata": {},
            "outputs": [],
            "source": "# Function to get Longitude from dataframe created from Geospatial_Coordinates.csv \ndef find_longitude(postal_code):\n    return ll_df.loc[ll_df['PostalCode'] == postal_code]['Longitude'].item()"
        },
        {
            "cell_type": "code",
            "execution_count": 12,
            "metadata": {},
            "outputs": [],
            "source": "df['Latitude'] = None\ndf['Longitude'] = None\nfor i in df.index: \n     df['Latitude'][i] = find_latitude( df['PostalCode'][i] )\n     df['Longitude'][i] = find_longitude( df['PostalCode'][i] )"
        },
        {
            "cell_type": "code",
            "execution_count": 13,
            "metadata": {},
            "outputs": [
                {
                    "data": {
                        "text/html": "<div>\n<style scoped>\n    .dataframe tbody tr th:only-of-type {\n        vertical-align: middle;\n    }\n\n    .dataframe tbody tr th {\n        vertical-align: top;\n    }\n\n    .dataframe thead th {\n        text-align: right;\n    }\n</style>\n<table border=\"1\" class=\"dataframe\">\n  <thead>\n    <tr style=\"text-align: right;\">\n      <th></th>\n      <th>PostalCode</th>\n      <th>Borough</th>\n      <th>Neighborhood</th>\n      <th>Latitude</th>\n      <th>Longitude</th>\n    </tr>\n  </thead>\n  <tbody>\n    <tr>\n      <th>5</th>\n      <td>M5A</td>\n      <td>Downtown Toronto</td>\n      <td>Regent Park, Harbourfront</td>\n      <td>43.6543</td>\n      <td>-79.3606</td>\n    </tr>\n    <tr>\n      <th>10</th>\n      <td>M1B</td>\n      <td>Scarborough</td>\n      <td>Malvern, Rouge</td>\n      <td>43.8067</td>\n      <td>-79.1944</td>\n    </tr>\n    <tr>\n      <th>13</th>\n      <td>M4B</td>\n      <td>East York</td>\n      <td>Parkview Hill, Woodbine Gardens</td>\n      <td>43.7064</td>\n      <td>-79.3099</td>\n    </tr>\n    <tr>\n      <th>40</th>\n      <td>M4G</td>\n      <td>East York</td>\n      <td>Leaside</td>\n      <td>43.7091</td>\n      <td>-79.3635</td>\n    </tr>\n    <tr>\n      <th>41</th>\n      <td>M5G</td>\n      <td>Downtown Toronto</td>\n      <td>Central Bay Street</td>\n      <td>43.658</td>\n      <td>-79.3874</td>\n    </tr>\n    <tr>\n      <th>47</th>\n      <td>M2H</td>\n      <td>North York</td>\n      <td>Hillcrest Village</td>\n      <td>43.8038</td>\n      <td>-79.3635</td>\n    </tr>\n    <tr>\n      <th>55</th>\n      <td>M1J</td>\n      <td>Scarborough</td>\n      <td>Scarborough Village</td>\n      <td>43.7447</td>\n      <td>-79.2395</td>\n    </tr>\n    <tr>\n      <th>81</th>\n      <td>M9L</td>\n      <td>North York</td>\n      <td>Humber Summit</td>\n      <td>43.7563</td>\n      <td>-79.566</td>\n    </tr>\n    <tr>\n      <th>85</th>\n      <td>M4M</td>\n      <td>East Toronto</td>\n      <td>Studio District</td>\n      <td>43.6595</td>\n      <td>-79.3409</td>\n    </tr>\n    <tr>\n      <th>109</th>\n      <td>M1R</td>\n      <td>Scarborough</td>\n      <td>Wexford, Maryvale</td>\n      <td>43.7501</td>\n      <td>-79.2958</td>\n    </tr>\n    <tr>\n      <th>140</th>\n      <td>M5V</td>\n      <td>Downtown Toronto</td>\n      <td>CN Tower, King and Spadina, Railway Lands, Har...</td>\n      <td>43.6289</td>\n      <td>-79.3944</td>\n    </tr>\n    <tr>\n      <th>144</th>\n      <td>M9V</td>\n      <td>Etobicoke</td>\n      <td>South Steeles, Silverstone, Humbergate, Jamest...</td>\n      <td>43.7394</td>\n      <td>-79.5884</td>\n    </tr>\n  </tbody>\n</table>\n</div>",
                        "text/plain": "    PostalCode           Borough  \\\n5          M5A  Downtown Toronto   \n10         M1B       Scarborough   \n13         M4B         East York   \n40         M4G         East York   \n41         M5G  Downtown Toronto   \n47         M2H        North York   \n55         M1J       Scarborough   \n81         M9L        North York   \n85         M4M      East Toronto   \n109        M1R       Scarborough   \n140        M5V  Downtown Toronto   \n144        M9V         Etobicoke   \n\n                                          Neighborhood Latitude Longitude  \n5                            Regent Park, Harbourfront  43.6543  -79.3606  \n10                                      Malvern, Rouge  43.8067  -79.1944  \n13                     Parkview Hill, Woodbine Gardens  43.7064  -79.3099  \n40                                             Leaside  43.7091  -79.3635  \n41                                  Central Bay Street   43.658  -79.3874  \n47                                   Hillcrest Village  43.8038  -79.3635  \n55                                 Scarborough Village  43.7447  -79.2395  \n81                                       Humber Summit  43.7563   -79.566  \n85                                     Studio District  43.6595  -79.3409  \n109                                  Wexford, Maryvale  43.7501  -79.2958  \n140  CN Tower, King and Spadina, Railway Lands, Har...  43.6289  -79.3944  \n144  South Steeles, Silverstone, Humbergate, Jamest...  43.7394  -79.5884  "
                    },
                    "execution_count": 13,
                    "metadata": {},
                    "output_type": "execute_result"
                }
            ],
            "source": "some_values = ['M5G','M2H','M4B','M1J','M4G','M4M','M1R','M9V', 'M9L','M5V','M1B','M5A']\ndf.loc[df['PostalCode'].isin(some_values)]\n#df.loc[df['PostalCode'] == 'M9W']"
        },
        {
            "cell_type": "code",
            "execution_count": null,
            "metadata": {},
            "outputs": [],
            "source": ""
        }
    ],
    "metadata": {
        "kernelspec": {
            "display_name": "Python 3.6",
            "language": "python",
            "name": "python3"
        },
        "language_info": {
            "codemirror_mode": {
                "name": "ipython",
                "version": 3
            },
            "file_extension": ".py",
            "mimetype": "text/x-python",
            "name": "python",
            "nbconvert_exporter": "python",
            "pygments_lexer": "ipython3",
            "version": "3.6.9"
        }
    },
    "nbformat": 4,
    "nbformat_minor": 1
}