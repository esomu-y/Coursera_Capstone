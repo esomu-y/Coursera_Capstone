{
    "cells": [
        {
            "metadata": {
                "collapsed": true
            },
            "cell_type": "markdown",
            "source": "# Best Place to Retire in California"
        },
        {
            "metadata": {},
            "cell_type": "markdown",
            "source": "## 1.\tIntroduction\n<span style=\"color:red\">**A description of the problem and a discussion of the background. (15 marks)** text</span>"
        },
        {
            "metadata": {},
            "cell_type": "markdown",
            "source": "### 1.1\tBackground: "
        },
        {
            "metadata": {},
            "cell_type": "markdown",
            "source": "> California is a very nice place to live. It has some of the best beaches along it\u2019s 900 miles of Pacific Coast. From Hollywood to Silicon Valley, from Aerospace companies to giant Social Media companies it has everything an aspiring young person would love to enjoy. It has a diverse population that adds to fun when you are young. It is vibrant and feels like it has more economic ups and downs than the rest of the world. As you get older and start thinking about life after retirement you start to think of stability and familiar faces. As a resident of California, I and many of my friends and family wonder, what is the best County to retire? "
        },
        {
            "metadata": {},
            "cell_type": "markdown",
            "source": "### 1.2 Problem Statement: "
        },
        {
            "metadata": {},
            "cell_type": "markdown",
            "source": "> In this project we will try to find a good place to retire in California. Ideally a place that has diverse population and lots of parks and cafes. Also, with low crime rate. As there are more attributes to a county that average person\u2019s mind can handle, we need to utilize the tools of data science to figure this out."
        },
        {
            "metadata": {},
            "cell_type": "markdown",
            "source": "### 1.3 Interest:"
        },
        {
            "metadata": {},
            "cell_type": "markdown",
            "source": "> My Friends and Family and everyone I know who is in the same place as I am in my life is starting to think of this problem. I hope this project will show them a new way to look at the problem and find data driven solution for more real-life problems."
        },
        {
            "metadata": {},
            "cell_type": "markdown",
            "source": "## 2.\tData"
        },
        {
            "metadata": {},
            "cell_type": "markdown",
            "source": "### 2.1\tData Sources: "
        },
        {
            "metadata": {},
            "cell_type": "markdown",
            "source": "> In order to find optimal solution for this real-life problem we need to get data from multiple sources. \n>\n> -\tWe need Demographic information for each County in California\n>\n> - We need Crime Data about each County in California\n>\n> - We need to figure out popular venues in each County in California\n>\n"
        },
        {
            "metadata": {},
            "cell_type": "markdown",
            "source": "> \n> I identified the following data source to get the data mentioned above\n>\n> - Demographic information can be obtained from US Census data that can be found in https://data.census.gov \n> \n> - Crime rate can be determined by combining various data in the Open Justice website https://openjustice.doj.ca.gov/data . Specifically, they have the following data for each County in California\n>\n>> - Domestic Violence related Calls for Service \n>> https://data-openjustice.doj.ca.gov/sites/default/files/dataset/2019-06/DVRCA_2001-2018.csv\n>>\n>> - Number of Victims of Hate Crimes \n>> https://data-openjustice.doj.ca.gov/sites/default/files/dataset/2019-06/HATE_2001-2018_0.csv\n>>\n>> - Number of Arrests \n>> https://data-openjustice.doj.ca.gov/sites/default/files/dataset/2019-06/OnlineArrestData1980-2018.csv\n>>\n>> - Number of Violent Crimes Committed Against Senior Citizens (VCASC) \n>> https://data-openjustice.doj.ca.gov/sites/default/files/dataset/2019-06/VCASC_2000-2018.csv\n>>\n>\n> - Finally, the popular venues in each County can be derived from the Venues data obtained from the FourSquareAPI \n> "
        },
        {
            "metadata": {},
            "cell_type": "markdown",
            "source": "## 3.\tMethodology: "
        },
        {
            "metadata": {},
            "cell_type": "markdown",
            "source": "<span style=\"color:red\">**A description of the data and how it will be used to solve the problem (15 marks)**</span> "
        },
        {
            "metadata": {},
            "cell_type": "markdown",
            "source": ">\n> We will try to follow the CRISP-DM methodology by John Rollins to solve this problem. \n> \n> So far, we have tried to <span style=\"color:red\">**understand the problem**</span> space and defined the problem statement and established the <span style=\"color:red\">**(business) requirements**</span> in the form of a problem statement. \n>\n> Also, we have stablished that the sheer volume of data and the numerous dimensions of multiple dataset makes it harder to solve with traditional approaches. For this problem we will have to use <span style=\"color:red\">**machine learning approach**</span> and data science tools like IBM Watson Studio, Jupyter Notebook, Python Libraries like Numpy, Pandas, Matplotlib, sklearn and folium. \n>\n> From the above problem statement (Business Requirements) I have searched multiple source of data and understood the multiple source and defined the <span style=\"color:red\">**data requirements**</span> for this project. As part of planning for <span style=\"color:red\">**data collection**</span> have identified 4 data sets in CSV format, 1 dataset in Excel format and one JSON data from Foursquare API.  The section 2.1 data sources list the available <span style=\"color:red\">**data sources**</span>.\n>\n> After collecting all the data in one place, they will be merged into single data source. One dataset from Census data uses a name for identifying County while Open Justice uses a County Code for identifying a County. I had to find a meta data mapping data set that maps the names of county to the County Code. With all this I have to <span style=\"color:red\">**merge data**</span> the multiple datasets into a single dataset. \n>\n> In order to <span style=\"color:red\">**understand data**</span>, we need to reference the documentation available for each of the data source. After going through the documentation available for each of the data source I\u2019ve understood the ways to do <span style=\"color:red\">**data cleanup**</span> and <span style=\"color:red\">**normalize data**</span>. You will see more details of <span style=\"color:red\">**data preparation**</span> steps in the Jupyter Notbook in subsequent phase of this project. \n> \n> More specifically about modeling, we are going to use the <span style=\"color:red\">**K-Means algorithm**</span> to Cluster data to find out similar Counties and explore each cluster to choose more appropriate County to retire in. \n>"
        }
    ],
    "metadata": {
        "kernelspec": {
            "name": "python3",
            "display_name": "Python 3.6",
            "language": "python"
        },
        "language_info": {
            "name": "python",
            "version": "3.6.9",
            "mimetype": "text/x-python",
            "codemirror_mode": {
                "name": "ipython",
                "version": 3
            },
            "pygments_lexer": "ipython3",
            "nbconvert_exporter": "python",
            "file_extension": ".py"
        }
    },
    "nbformat": 4,
    "nbformat_minor": 1
}