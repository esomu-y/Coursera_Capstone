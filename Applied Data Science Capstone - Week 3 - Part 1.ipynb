{
    "cells": [
        {
            "cell_type": "code",
            "execution_count": 36,
            "metadata": {},
            "outputs": [],
            "source": "import urllib.request\nimport bs4 as bs\nimport pandas as pd"
        },
        {
            "cell_type": "code",
            "execution_count": 95,
            "metadata": {},
            "outputs": [
                {
                    "name": "stdout",
                    "output_type": "stream",
                    "text": "1. count:  181\n"
                }
            ],
            "source": "# Read the wiki page\n# create the above dataframe:\n# The dataframe will consist of three columns: PostalCode, Borough, and Neighborhood\nsource = urllib.request.urlopen('https://en.wikipedia.org/wiki/List_of_postal_codes_of_Canada:_M').read()\nsoup = bs.BeautifulSoup(source,'lxml')\ntable = soup.find('table', attrs={'class':'wikitable sortable'})\ntable_rows = table.find_all('tr')\nl = []\nfor tr in table_rows:\n    td = tr.find_all('td')\n    row = [tr.text for tr in td]\n    l.append(row)\ndf = pd.DataFrame(l, columns=[\"PostalCode\", \"Borough\",\"Neighborhood\"])\n# df.head()\n# print(  \"1. count: \" , df.shape[0])"
        },
        {
            "cell_type": "code",
            "execution_count": 96,
            "metadata": {},
            "outputs": [
                {
                    "name": "stdout",
                    "output_type": "stream",
                    "text": "2. count:  180\n"
                }
            ],
            "source": "# Remove 1st row whic is all None\ndf = df[~df.isna().any(axis=1)]\n# print(  \"2. count: \" , df.shape[0] )\n# df.head()"
        },
        {
            "cell_type": "code",
            "execution_count": 97,
            "metadata": {},
            "outputs": [
                {
                    "name": "stdout",
                    "output_type": "stream",
                    "text": "3. count:  103\n"
                }
            ],
            "source": "# Only process the cells that have an assigned borough. Ignore cells with a borough that is Not assigned.\ndf.loc[df['Borough'].str.contains('Not assigned'), 'Borough'] = None\n#df = df[~df.isna().any(axis=1)]\ndf = df.dropna(subset=['Borough'])\n# print(  \"3. count: \" , df.shape[0] )\n# df.head()"
        },
        {
            "cell_type": "code",
            "execution_count": 102,
            "metadata": {},
            "outputs": [
                {
                    "data": {
                        "text/plain": "Series([], Name: Neighborhood, dtype: object)"
                    },
                    "execution_count": 102,
                    "metadata": {},
                    "output_type": "execute_result"
                }
            ],
            "source": "# More than one neighborhood can exist in one postal code area. For example, in the table on the Wikipedia page, you will notice that M5A is listed twice and has two neighborhoods: Harbourfront and Regent Park. \n# These two rows will be combined into one row with the neighborhoods separated with a comma as shown in row 11 in the above table.\n# But, becuase the wiki alredy remvoved duplicate postal codes we are only going to cleanup the data in the Neighborhood column\n# Also remove new line from HTML\nfor i in df.index: \n     df['PostalCode'][i] = df['PostalCode'][i].replace('\\n','')\n     df['Borough'][i] = df['Borough'][i].replace('\\n','')\n     df['Neighborhood'][i] = df['Neighborhood'][i].replace('\\n','')\n     df['Neighborhood'][i] = df['Neighborhood'][i].replace(' / ',', ')"
        },
        {
            "cell_type": "code",
            "execution_count": null,
            "metadata": {},
            "outputs": [],
            "source": "# If a cell has a borough but a Not assigned neighborhood, then the neighborhood will be the same as the borough.\ndf.loc[df['Neighborhood'].str.contains('Not assigned'), 'Neighborhood'] "
        },
        {
            "cell_type": "code",
            "execution_count": 103,
            "metadata": {},
            "outputs": [
                {
                    "name": "stdout",
                    "output_type": "stream",
                    "text": "3. count:  103\n"
                }
            ],
            "source": "# In the last cell of your notebook, use the .shape method to print the number of rows of your dataframe.\nprint(  \"3. count: \" , df.shape[0] )"
        },
        {
            "cell_type": "code",
            "execution_count": null,
            "metadata": {},
            "outputs": [],
            "source": ""
        }
    ],
    "metadata": {
        "kernelspec": {
            "display_name": "Python 3.6",
            "language": "python",
            "name": "python3"
        },
        "language_info": {
            "codemirror_mode": {
                "name": "ipython",
                "version": 3
            },
            "file_extension": ".py",
            "mimetype": "text/x-python",
            "name": "python",
            "nbconvert_exporter": "python",
            "pygments_lexer": "ipython3",
            "version": "3.6.9"
        }
    },
    "nbformat": 4,
    "nbformat_minor": 1
}